{
 "cells": [
  {
   "cell_type": "markdown",
   "metadata": {},
   "source": [
    "#  5. Práctica Spark Streaming\n",
    "\n",
    "SPARK STREAMING+ KAFKA\n",
    "\n",
    "Autora: Ester Cortés García"
   ]
  },
  {
   "cell_type": "markdown",
   "metadata": {},
   "source": [
    "Utilizando como base las herramientas presentadas en clase (productor y consumidor de Kafka\n",
    "genéricos en Python), crear una aplicación local de Spark Streaming que lea progresivamente los\n",
    "tweets insertados en una cola de Kafka identificada por el topic \"Qatar\", defina un\n",
    "intervalo de procesamiento de datos de 5 segundos y realice tres tareas. "
   ]
  },
  {
   "cell_type": "markdown",
   "metadata": {},
   "source": [
    "## Importaciones"
   ]
  },
  {
   "cell_type": "code",
   "execution_count": null,
   "metadata": {},
   "outputs": [],
   "source": [
    "from __future__ import print_function\n",
    "from pyspark import SparkContext\n",
    "from pyspark.streaming import StreamingContext\n",
    "from pyspark.streaming.kafka import KafkaUtils\n",
    "from operator import add\n",
    "from operator import sub"
   ]
  },
  {
   "cell_type": "markdown",
   "metadata": {},
   "source": [
    "## Creación del contexto"
   ]
  },
  {
   "cell_type": "code",
   "execution_count": null,
   "metadata": {},
   "outputs": [],
   "source": [
    "import os\n",
    "packages = \"org.apache.spark:spark-streaming-kafka-0-8_2.11:2.2.1\"\n",
    "os.environ[\"PYSPARK_SUBMIT_ARGS\"] = (\n",
    "    \"--packages {0} pyspark-shell\".format(packages)\n",
    ")"
   ]
  },
  {
   "cell_type": "code",
   "execution_count": null,
   "metadata": {},
   "outputs": [],
   "source": [
    "sc = SparkContext(appName=\"KafkaStreamingEndtoEnd\")"
   ]
  },
  {
   "cell_type": "code",
   "execution_count": null,
   "metadata": {},
   "outputs": [],
   "source": [
    "# Crear el contexto de Spark Streaming\n",
    "ssc = StreamingContext(sc, 5) #tiempo de procesamiento - 5s"
   ]
  },
  {
   "cell_type": "markdown",
   "metadata": {},
   "source": [
    "## Métodos auxiliares"
   ]
  },
  {
   "cell_type": "markdown",
   "metadata": {},
   "source": [
    "### Método de parseo de tweets"
   ]
  },
  {
   "cell_type": "markdown",
   "metadata": {},
   "source": [
    "Este método nos ayuda a parsear cada línea que llega por la cola de Kafka con datos sobre los tweets"
   ]
  },
  {
   "cell_type": "code",
   "execution_count": null,
   "metadata": {},
   "outputs": [],
   "source": [
    "import csv\n",
    "\n",
    "def parseOrder(line):\n",
    "    s = next(csv.reader([line]))\n",
    "    try: \n",
    "        return[{\"ID\":s[0],\"Source\":s[2],\"Mentions\":s[3],\n",
    "               \"Body\":s[6],\"Type\":s[9]}]\n",
    "    except Exception as err:\n",
    "        print(\"Wrong line format (%s) \" % line)\n",
    "        return []"
   ]
  },
  {
   "cell_type": "markdown",
   "metadata": {},
   "source": [
    "### Lectura de datos de kafka"
   ]
  },
  {
   "cell_type": "code",
   "execution_count": null,
   "metadata": {},
   "outputs": [],
   "source": [
    "kafkaBrokerIPPort = \"127.0.0.1:9092\"\n",
    "kafkaParams = {\"metadata.broker.list\": kafkaBrokerIPPort}\n",
    "stream = KafkaUtils.createDirectStream(ssc, [\"Qatar\"], \n",
    "                                       kafkaParams)\n",
    "stream = stream.map(lambda o: str(o[1]))"
   ]
  },
  {
   "cell_type": "markdown",
   "metadata": {},
   "source": [
    "## Apartado A\n",
    "### Calcular el número total de menciones recibidas por cada cuenta de usuario durante el intervalo de 5 segundos."
   ]
  },
  {
   "cell_type": "code",
   "execution_count": null,
   "metadata": {},
   "outputs": [],
   "source": [
    "tweets = stream.flatMap(parseOrder)\n",
    "mentions = (tweets.flatMap(lambda M: M[\"Mentions\"].split(\",\"))\n",
    "                    .map(lambda x: (x,1))\n",
    "                    .filter(lambda m: m[0] != '')\n",
    "                    .reduceByKey(add))\n",
    "                \n",
    "mentions.pprint()"
   ]
  },
  {
   "cell_type": "markdown",
   "metadata": {},
   "source": [
    "## Apartado B\n",
    "### Calcular la frecuencia total acumulada de apariciones de cada hashtag en el campo body, actualizando un ranking con los 5 hashtags con mayor frecuencia de aparición."
   ]
  },
  {
   "cell_type": "code",
   "execution_count": null,
   "metadata": {},
   "outputs": [],
   "source": [
    "tweets = stream.flatMap(parseOrder)\n",
    "get5 = (tweets.flatMap(lambda M: M[\"Body\"].split(\" \"))\n",
    "                    .filter(lambda x: x.startswith(\"#\"))\n",
    "                    .map(lambda x: (x,1))\n",
    "                    .updateStateByKey(lambda vals, totalOpt: sum(vals) + totalOpt \n",
    "                                      if totalOpt != None else sum(vals)))\n",
    "result = (get5.transform(lambda rdd: rdd.sortBy(lambda x: x[1], False)\n",
    "                         .map(lambda x: x[0])\n",
    "                          .zipWithIndex()\n",
    "                         .filter(lambda x: x[1] < 5)))\n",
    "\n",
    "                                               \n",
    "result.pprint()\n",
    "\n",
    "sc.setCheckpointDir(\"data/checkpoint/\")"
   ]
  },
  {
   "cell_type": "markdown",
   "metadata": {},
   "source": [
    "## Apartado C\n",
    "### Calcular en una ventana temporal 20 segundos con offset de 10 segundos la frecuencia de aparición de cada uno de los 3 posibles tipos de tweets (TW-RT-MT)."
   ]
  },
  {
   "cell_type": "code",
   "execution_count": null,
   "metadata": {},
   "outputs": [],
   "source": [
    "tweets = stream.flatMap(parseOrder)\n",
    "getType = (tweets.map(lambda t:(t[\"Type\"],1))\n",
    "                .reduceByKeyAndWindow(add,sub,windowDuration=20,slideDuration=10)\n",
    "                .repartition(1))\n",
    "getType.pprint()\n",
    "\n",
    "sc.setCheckpointDir(\"data/checkpoint/\")"
   ]
  },
  {
   "cell_type": "markdown",
   "metadata": {},
   "source": [
    "## Start Streaming context"
   ]
  },
  {
   "cell_type": "code",
   "execution_count": null,
   "metadata": {},
   "outputs": [],
   "source": [
    "ssc.start()\n",
    "ssc.awaitTerminationOrTimeout(10)  # Espera 10 segs. antes de acabar"
   ]
  },
  {
   "cell_type": "markdown",
   "metadata": {},
   "source": [
    "## Stop Streaming Context"
   ]
  },
  {
   "cell_type": "code",
   "execution_count": null,
   "metadata": {},
   "outputs": [],
   "source": [
    "ssc.stop(False)"
   ]
  },
  {
   "cell_type": "code",
   "execution_count": null,
   "metadata": {},
   "outputs": [],
   "source": []
  }
 ],
 "metadata": {
  "kernelspec": {
   "display_name": "Python 3",
   "language": "python",
   "name": "python3"
  },
  "language_info": {
   "codemirror_mode": {
    "name": "ipython",
    "version": 3
   },
   "file_extension": ".py",
   "mimetype": "text/x-python",
   "name": "python",
   "nbconvert_exporter": "python",
   "pygments_lexer": "ipython3",
   "version": "3.5.4"
  }
 },
 "nbformat": 4,
 "nbformat_minor": 2
}
