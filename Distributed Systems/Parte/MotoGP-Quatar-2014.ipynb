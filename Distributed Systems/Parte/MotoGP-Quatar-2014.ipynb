{
 "cells": [
  {
   "cell_type": "markdown",
   "metadata": {},
   "source": [
    "# Datos MotoGP Quatar 2014"
   ]
  },
  {
   "cell_type": "code",
   "execution_count": 2,
   "metadata": {
    "collapsed": false
   },
   "outputs": [
    {
     "name": "stdout",
     "output_type": "stream",
     "text": [
      "<pyspark.sql.session.SparkSession object at 0x7f6db45b91d0>\n",
      "<pyspark.context.SparkContext object at 0x7f6dd41cfb38>\n"
     ]
    }
   ],
   "source": [
    "import findspark\n",
    "findspark.init(\"/home/jfelipe/Development/spark/spark-2.0.2-bin-hadoop2.7/\")\n",
    "\n",
    "import pyspark\n",
    "from pyspark.sql import SparkSession\n",
    "spark = (SparkSession.builder\n",
    "    .master(\"local[*]\")\n",
    "    .config(\"spark.driver.cores\", 1)\n",
    "    .appName(\"understanding_sparksession\")\n",
    "    .getOrCreate() )\n",
    "sc = spark.sparkContext\n",
    "print(spark)\n",
    "print(sc)"
   ]
  },
  {
   "cell_type": "markdown",
   "metadata": {},
   "source": [
    "## Lectura de eventos"
   ]
  },
  {
   "cell_type": "markdown",
   "metadata": {},
   "source": [
    "En primer lugar, definimos los tipos de datos específicos para cada campo con un esquema personalizado."
   ]
  },
  {
   "cell_type": "code",
   "execution_count": 3,
   "metadata": {
    "collapsed": false
   },
   "outputs": [],
   "source": [
    "from pyspark.sql.types import *\n",
    "from pyspark.sql.functions import *\n",
    "customSchema = StructType([StructField(\"Id\", LongType(), True),\n",
    "                           StructField(\"Parent_sys_id\", StringType(), True),\n",
    "                           StructField(\"Source\", StringType(), True),\n",
    "                           StructField(\"Mentions\", StringType(), True),\n",
    "                           StructField(\"Target\", StringType(), True),\n",
    "                           StructField(\"Name_source\", StringType(), True),\n",
    "                           StructField(\"Body\", StringType(), True),\n",
    "                           StructField(\"Pub_date\", TimestampType(), True),\n",
    "                           StructField(\"URLs\", StringType(), True),\n",
    "                           StructField(\"Tipe_action\", StringType(), True),\n",
    "                           StructField(\"Link\", StringType(), True),\n",
    "                           StructField(\"Has_link\", ByteType(), True),\n",
    "                           StructField(\"Has_picture\", ByteType(), True),\n",
    "                           StructField(\"Website\", StringType(), True),\n",
    "                           StructField(\"Country\", StringType(), True),\n",
    "                           StructField(\"Activity\", LongType(), True),\n",
    "                           StructField(\"Followers\", LongType(), True),\n",
    "                           StructField(\"Following\", LongType(), True),\n",
    "                           StructField(\"Location\", StringType(), True)\n",
    "                          ])"
   ]
  },
  {
   "cell_type": "markdown",
   "metadata": {},
   "source": [
    "A continuación, usamos el esquema personalizado para la lectura de los datos. Hay que tener en cuenta que puede que haya campos con datos mal formados (*malformed data lines*).\n",
    "\n",
    "En la página de documentación del método `read.csv` (DataFrameReader csv), nos encontramos que el **modo por defecto de lectura de los datos es `PERMISSIVE`**. Este modo pone a `null` todos los campos del esquema que encuente para un campo con valor corrupto, y puede llegar a hacer que no leamos alguna línea completa del archivo. En nuestro caso particular, en el campo del texto del tweet aparecen en ciertas ocasiones el caracter `\\` como parte de emoticonos textuales o por otros motivos, justo al final del string del campo. Eso puede hacer que el parser se confunda, interpretando erróneamente `\\\"` como un intento de escapar la comilla doble, cuando en realidad se trata del caracter `\\` seguido de la comilla de cierre del campo de texto. También podemos controlar en la exportación de datos que se escape explicitamente cualquier carácter especial como `\\`, pero este posible fallo nos da la oportunidad de usar un mecanismo para resolverlo.\n",
    "\n",
    "Si cambiamos el modo de lectura a `mode=\"FAILFAST\"`, eso hará que **el parser falle de inmediato ante una línea con campos corruptos** (respecto del esquema que hemos proporcionado). Buscando en la traza de error, veremos la línea que produjo la excepción y podemos buscarla en el fichero de datos para solucionar el error."
   ]
  },
  {
   "cell_type": "code",
   "execution_count": 4,
   "metadata": {
    "collapsed": false
   },
   "outputs": [],
   "source": [
    "events = spark.read.csv(\"data/ALTO-DATABASE/DATASET-Twitter-23-26-Mar-2014-MotoGP-Qatar.csv\",\n",
    "                        header=True, schema=customSchema, timestampFormat=\"dd/MM/yyyy HH:mm\")\n",
    "                        #mode=\"FAILFAST\") #"
   ]
  },
  {
   "cell_type": "code",
   "execution_count": 5,
   "metadata": {
    "collapsed": false
   },
   "outputs": [
    {
     "name": "stdout",
     "output_type": "stream",
     "text": [
      "root\n",
      " |-- Id: long (nullable = true)\n",
      " |-- Parent_sys_id: string (nullable = true)\n",
      " |-- Source: string (nullable = true)\n",
      " |-- Mentions: string (nullable = true)\n",
      " |-- Target: string (nullable = true)\n",
      " |-- Name_source: string (nullable = true)\n",
      " |-- Body: string (nullable = true)\n",
      " |-- Pub_date: timestamp (nullable = true)\n",
      " |-- URLs: string (nullable = true)\n",
      " |-- Tipe_action: string (nullable = true)\n",
      " |-- Link: string (nullable = true)\n",
      " |-- Has_link: byte (nullable = true)\n",
      " |-- Has_picture: byte (nullable = true)\n",
      " |-- Website: string (nullable = true)\n",
      " |-- Country: string (nullable = true)\n",
      " |-- Activity: long (nullable = true)\n",
      " |-- Followers: long (nullable = true)\n",
      " |-- Following: long (nullable = true)\n",
      " |-- Location: string (nullable = true)\n",
      "\n"
     ]
    }
   ],
   "source": [
    "events.printSchema()"
   ]
  },
  {
   "cell_type": "markdown",
   "metadata": {
    "collapsed": true
   },
   "source": [
    "## Análisis descriptivo"
   ]
  },
  {
   "cell_type": "markdown",
   "metadata": {},
   "source": [
    "### Conjunto de datos y valores"
   ]
  },
  {
   "cell_type": "code",
   "execution_count": 6,
   "metadata": {
    "collapsed": false
   },
   "outputs": [
    {
     "data": {
      "text/plain": [
       "257680"
      ]
     },
     "execution_count": 6,
     "metadata": {},
     "output_type": "execute_result"
    }
   ],
   "source": [
    "events.count()"
   ]
  },
  {
   "cell_type": "code",
   "execution_count": 7,
   "metadata": {
    "collapsed": false
   },
   "outputs": [
    {
     "data": {
      "text/plain": [
       "[Row(Id=600621, Parent_sys_id='sin padre', Source='Henrito_fx3', Mentions=None, Target=None, Name_source='Henrit?. ?', Body=\"- #henritofresh alex márquez (honda): 'he cometido un error de novato': el piloto español de moto3 alex márque... http://bit.ly/olxd7p\", Pub_date=datetime.datetime(2014, 3, 23, 22, 32), URLs='http://bit.ly/olxd7p', Tipe_action='TW', Link='http://twitter.com/Henrito_fx3/statuses/447848348674838531', Has_link=1, Has_picture=0, Website='http://twitter.com/Henrito_fx3', Country='not public', Activity=82710, Followers=1485, Following=477, Location='???????? '),\n",
       " Row(Id=604076, Parent_sys_id='sin padre', Source='Henrito_fx3', Mentions=None, Target=None, Name_source='Henrit?. ?', Body='- #henritofresh con márquez, todo igual: los focos, puestos en él desde que debutara en el mundial en 2013, vo... http://bit.ly/1deycvz', Pub_date=datetime.datetime(2014, 3, 23, 22, 48), URLs='http://bit.ly/1deycvz', Tipe_action='TW', Link='http://twitter.com/Henrito_fx3/statuses/447852358957944834', Has_link=1, Has_picture=0, Website='http://twitter.com/Henrito_fx3', Country='not public', Activity=82710, Followers=1485, Following=477, Location='???????? '),\n",
       " Row(Id=512641, Parent_sys_id='sin padre', Source='Henrito_fx3', Mentions=None, Target=None, Name_source='Henrit?. ?', Body='- #henritofresh en vivo: carrera de moto2: ... http://bit.ly/1hbliq7', Pub_date=datetime.datetime(2014, 3, 23, 18, 37), URLs='http://bit.ly/1hbliq7', Tipe_action='TW', Link='http://twitter.com/Henrito_fx3/statuses/447789269327704064', Has_link=1, Has_picture=0, Website='http://twitter.com/Henrito_fx3', Country='not public', Activity=82710, Followers=1485, Following=477, Location='???????? '),\n",
       " Row(Id=643917, Parent_sys_id='sin padre', Source='Henrito_fx3', Mentions=None, Target=None, Name_source='Henrit?. ?', Body=\"- #henritofresh márquez (honda): 'la disputa con rossi ha sido lo más bonito de la carrera': el piloto español... http://bit.ly/1ggugx0\", Pub_date=datetime.datetime(2014, 3, 24, 1, 54), URLs='http://bit.ly/1ggugx0', Tipe_action='TW', Link='http://twitter.com/Henrito_fx3/statuses/447899325058670592', Has_link=1, Has_picture=0, Website='http://twitter.com/Henrito_fx3', Country='not public', Activity=82710, Followers=1485, Following=477, Location='???????? '),\n",
       " Row(Id=643962, Parent_sys_id='sin padre', Source='Henrito_fx3', Mentions=None, Target=None, Name_source='Henrit?. ?', Body=\"- #henritofresh pedrosa (honda): 'el tercer puesto ha sido un resultado positivo': el piloto español de motogp... http://bit.ly/1ggugx1\", Pub_date=datetime.datetime(2014, 3, 24, 1, 54), URLs='http://bit.ly/1ggugx1', Tipe_action='TW', Link='http://twitter.com/Henrito_fx3/statuses/447899334902706176', Has_link=1, Has_picture=0, Website='http://twitter.com/Henrito_fx3', Country='not public', Activity=82710, Followers=1485, Following=477, Location='???????? ')]"
      ]
     },
     "execution_count": 7,
     "metadata": {},
     "output_type": "execute_result"
    }
   ],
   "source": [
    "events.take(5)"
   ]
  },
  {
   "cell_type": "markdown",
   "metadata": {
    "collapsed": true
   },
   "source": [
    "### Resumen de datos (DataFrames)"
   ]
  },
  {
   "cell_type": "markdown",
   "metadata": {},
   "source": [
    "***Timestamp* y contenido del último tweet**"
   ]
  },
  {
   "cell_type": "code",
   "execution_count": 99,
   "metadata": {
    "collapsed": false
   },
   "outputs": [
    {
     "name": "stdout",
     "output_type": "stream",
     "text": [
      "+--------------------+--------------------+\n",
      "|            Pub_date|                Body|\n",
      "+--------------------+--------------------+\n",
      "|2014-03-26 14:15:...|@marcmarquez93 go...|\n",
      "|2014-03-26 14:15:...|@marcmarquez93 si...|\n",
      "|2014-03-26 14:15:...|rt @_supportvale4...|\n",
      "|2014-03-26 14:15:...|rt @jessansan: es...|\n",
      "|2014-03-26 14:15:...|rt @marcmarquez93...|\n",
      "|2014-03-26 14:15:...|rt @marcmarquez93...|\n",
      "|2014-03-26 14:15:...|rt @marcmarquez93...|\n",
      "|2014-03-26 14:15:...|rt @marcmarquez93...|\n",
      "|2014-03-26 14:15:...|rt @marcmarquezte...|\n",
      "|2014-03-26 14:15:...|rt @marcmarquezte...|\n",
      "|2014-03-26 14:15:...|rt @motogp: rt @m...|\n",
      "|2014-03-26 14:15:...|rt @motogp: so wh...|\n",
      "|2014-03-26 14:15:...|rt @motogp: so wh...|\n",
      "|2014-03-26 14:15:...|rt @motogp: so wh...|\n",
      "|2014-03-26 14:15:...|rt @motogp: so wh...|\n",
      "|2014-03-26 14:15:...|rt @motorpasion: ...|\n",
      "|2014-03-26 14:15:...|rt @scottredding4...|\n",
      "+--------------------+--------------------+\n",
      "\n"
     ]
    }
   ],
   "source": [
    "max_ts = events.agg(max(\"Pub_date\")).collect()[0][0]\n",
    "(events.select(\"Pub_date\",\"Body\")\n",
    " .filter(events.Pub_date == max_ts)\n",
    " .show())"
   ]
  },
  {
   "cell_type": "markdown",
   "metadata": {},
   "source": [
    "**Usuario con más *followers***"
   ]
  },
  {
   "cell_type": "code",
   "execution_count": 20,
   "metadata": {
    "collapsed": false,
    "scrolled": true
   },
   "outputs": [
    {
     "name": "stdout",
     "output_type": "stream",
     "text": [
      "+------------+---------+\n",
      "|      Source|Followers|\n",
      "+------------+---------+\n",
      "|justinbieber| 51669863|\n",
      "+------------+---------+\n",
      "\n"
     ]
    }
   ],
   "source": [
    "max_followers = events.agg(max(\"Followers\")).collect()[0][0]\n",
    "(events.select(\"Source\", \"Followers\")\n",
    " .filter(events.Followers == max_followers)\n",
    " .distinct().show())"
   ]
  },
  {
   "cell_type": "markdown",
   "metadata": {},
   "source": [
    "**5 países con más tweets**"
   ]
  },
  {
   "cell_type": "code",
   "execution_count": 92,
   "metadata": {
    "collapsed": false
   },
   "outputs": [
    {
     "name": "stdout",
     "output_type": "stream",
     "text": [
      "+-------+------+\n",
      "|Country|tweets|\n",
      "+-------+------+\n",
      "|     es|172577|\n",
      "|     us| 12722|\n",
      "|     gb| 12588|\n",
      "|     id|  8725|\n",
      "|     it|  1843|\n",
      "+-------+------+\n",
      "\n"
     ]
    }
   ],
   "source": [
    "(events.filter(events.Country != \"not public\")\n",
    " .groupBy(\"Country\")\n",
    " .agg(count(\"Id\").alias(\"tweets\"))\n",
    " .orderBy(\"tweets\", ascending=False)\n",
    " .limit(5).show())"
   ]
  },
  {
   "cell_type": "markdown",
   "metadata": {},
   "source": [
    "**10 usuarios con más tweets**"
   ]
  },
  {
   "cell_type": "code",
   "execution_count": 97,
   "metadata": {
    "collapsed": false
   },
   "outputs": [
    {
     "name": "stdout",
     "output_type": "stream",
     "text": [
      "+------------+------+\n",
      "|      Source|tweets|\n",
      "+------------+------+\n",
      "|  m_azharaji|   486|\n",
      "|  twitMOTOGP|   401|\n",
      "|   johnbokke|   297|\n",
      "|qatarflights|   283|\n",
      "|  box_repsol|   267|\n",
      "| yolandaa_95|   185|\n",
      "| AlessiaPont|   182|\n",
      "| motomatters|   169|\n",
      "|  MM93Lovers|   169|\n",
      "|  Sonic_Moto|   165|\n",
      "+------------+------+\n",
      "\n"
     ]
    }
   ],
   "source": [
    "(events\n",
    " .groupBy(\"Source\")\n",
    " .agg(count(\"Id\").alias(\"tweets\"))\n",
    " .orderBy(\"tweets\", ascending=False)\n",
    " .limit(10).show())"
   ]
  },
  {
   "cell_type": "markdown",
   "metadata": {},
   "source": [
    "### Estadísticas temporales (DataFrames)"
   ]
  },
  {
   "cell_type": "markdown",
   "metadata": {},
   "source": [
    "**Número de tweets por día**"
   ]
  },
  {
   "cell_type": "code",
   "execution_count": 88,
   "metadata": {
    "collapsed": false
   },
   "outputs": [
    {
     "name": "stdout",
     "output_type": "stream",
     "text": [
      "+---------+------+\n",
      "|day_month|tweets|\n",
      "+---------+------+\n",
      "|       23|154395|\n",
      "|       24| 67945|\n",
      "|       25| 20557|\n",
      "|       26| 14783|\n",
      "+---------+------+\n",
      "\n"
     ]
    }
   ],
   "source": [
    "(events.groupBy(dayofmonth(\"Pub_date\").alias(\"day_month\"))\n",
    " .agg(count(\"Id\").alias(\"tweets\"))\n",
    " .orderBy(\"day_month\").show())"
   ]
  },
  {
   "cell_type": "markdown",
   "metadata": {},
   "source": [
    "**Número de tweets por día y hora**"
   ]
  },
  {
   "cell_type": "code",
   "execution_count": 31,
   "metadata": {
    "collapsed": false
   },
   "outputs": [
    {
     "name": "stdout",
     "output_type": "stream",
     "text": [
      "+---------+----+------+\n",
      "|day_month|hour|tweets|\n",
      "+---------+----+------+\n",
      "|       23|   0|  1628|\n",
      "|       23|   1|  1216|\n",
      "|       23|   2|   960|\n",
      "|       23|   3|   751|\n",
      "|       23|   4|   595|\n",
      "|       23|   5|   427|\n",
      "|       23|   6|   503|\n",
      "|       23|   7|   455|\n",
      "|       23|   8|   971|\n",
      "|       23|   9|  1355|\n",
      "|       23|  10|  2080|\n",
      "|       23|  11|  4733|\n",
      "|       23|  12|  5194|\n",
      "|       23|  13|  3745|\n",
      "|       23|  14|  3436|\n",
      "|       23|  15|  3645|\n",
      "|       23|  16|  6977|\n",
      "|       23|  17| 14959|\n",
      "|       23|  18|  7289|\n",
      "|       23|  19| 11940|\n",
      "+---------+----+------+\n",
      "only showing top 20 rows\n",
      "\n"
     ]
    }
   ],
   "source": [
    "(events.select(\"Id\", \"Pub_date\")\n",
    " .groupBy(dayofmonth(\"Pub_date\").alias(\"day_month\"),\n",
    "                hour(\"Pub_date\").alias(\"hour\"))\n",
    " .agg(count(\"Id\").alias(\"tweets\"))\n",
    " .orderBy(\"day_month\", \"hour\").show())"
   ]
  },
  {
   "cell_type": "markdown",
   "metadata": {},
   "source": [
    "**Número de tweets por día y hora, a partir de 2014-03-24 05:00**"
   ]
  },
  {
   "cell_type": "code",
   "execution_count": 36,
   "metadata": {
    "collapsed": false
   },
   "outputs": [
    {
     "name": "stdout",
     "output_type": "stream",
     "text": [
      "+---------+----+------+\n",
      "|day_month|hour|tweets|\n",
      "+---------+----+------+\n",
      "|       24|   5|   970|\n",
      "|       24|   6|  1162|\n",
      "|       24|   7|  1831|\n",
      "|       24|   8|  1852|\n",
      "|       24|   9|  1774|\n",
      "|       24|  10|  2415|\n",
      "|       24|  11|  3376|\n",
      "|       24|  12|  2590|\n",
      "|       24|  13|  5332|\n",
      "|       24|  14|  3984|\n",
      "|       24|  15|  2903|\n",
      "|       24|  16|  2277|\n",
      "|       24|  17|  2678|\n",
      "|       24|  18|  1830|\n",
      "|       24|  19|  1597|\n",
      "|       24|  20|  1746|\n",
      "|       24|  21|  2303|\n",
      "|       24|  22|  1679|\n",
      "|       24|  23|  1124|\n",
      "|       25|   0|  1002|\n",
      "|       25|   1|   582|\n",
      "|       25|   2|   382|\n",
      "|       25|   3|   369|\n",
      "|       25|   4|   348|\n",
      "|       25|   5|   340|\n",
      "|       25|   6|   385|\n",
      "|       25|   7|   526|\n",
      "|       25|   8|   560|\n",
      "|       25|   9|   613|\n",
      "|       25|  10|   941|\n",
      "+---------+----+------+\n",
      "only showing top 30 rows\n",
      "\n"
     ]
    }
   ],
   "source": [
    "(events.select(\"Id\", \"Pub_date\")\n",
    " .filter(( (dayofmonth(\"Pub_date\") == 24) & (hour(\"Pub_date\") >= 5)) | (dayofmonth(\"Pub_date\") >= 25) )\n",
    " .groupBy(dayofmonth(\"Pub_date\").alias(\"day_month\"),\n",
    "                hour(\"Pub_date\").alias(\"hour\"))\n",
    " .agg(count(\"Id\").alias(\"tweets\"))\n",
    " .orderBy(\"day_month\", \"hour\").show(30) )"
   ]
  },
  {
   "cell_type": "markdown",
   "metadata": {
    "collapsed": true
   },
   "source": [
    "### Resumen de datos (SQL)"
   ]
  },
  {
   "cell_type": "code",
   "execution_count": 8,
   "metadata": {
    "collapsed": true
   },
   "outputs": [],
   "source": [
    "events.createOrReplaceTempView(\"events\")"
   ]
  },
  {
   "cell_type": "markdown",
   "metadata": {},
   "source": [
    "***Timestamp* y contenido del último tweet**"
   ]
  },
  {
   "cell_type": "code",
   "execution_count": 12,
   "metadata": {
    "collapsed": false
   },
   "outputs": [
    {
     "name": "stdout",
     "output_type": "stream",
     "text": [
      "+--------------------+--------------------+\n",
      "|            Pub_date|                Body|\n",
      "+--------------------+--------------------+\n",
      "|2014-03-26 14:15:...|@marcmarquez93 go...|\n",
      "|2014-03-26 14:15:...|@marcmarquez93 si...|\n",
      "|2014-03-26 14:15:...|rt @_supportvale4...|\n",
      "|2014-03-26 14:15:...|rt @jessansan: es...|\n",
      "|2014-03-26 14:15:...|rt @marcmarquez93...|\n",
      "+--------------------+--------------------+\n",
      "\n"
     ]
    }
   ],
   "source": [
    "spark.sql(\"\"\"\n",
    "SELECT Pub_date, Body\n",
    "FROM events\n",
    "WHERE Pub_date = (SELECT MAX(Pub_date) from events)\n",
    "LIMIT 5\n",
    "\"\"\").show()"
   ]
  },
  {
   "cell_type": "markdown",
   "metadata": {},
   "source": [
    "**Usuario con más *followers***"
   ]
  },
  {
   "cell_type": "code",
   "execution_count": 86,
   "metadata": {
    "collapsed": false
   },
   "outputs": [
    {
     "name": "stdout",
     "output_type": "stream",
     "text": [
      "+------------+---------+\n",
      "|      Source|Followers|\n",
      "+------------+---------+\n",
      "|justinbieber| 51669863|\n",
      "+------------+---------+\n",
      "\n"
     ]
    }
   ],
   "source": [
    "spark.sql(\"\"\"\n",
    "SELECT DISTINCT(Source), Followers\n",
    "FROM events\n",
    "WHERE Followers = (SELECT MAX(Followers) FROM events)\n",
    "\"\"\").show()"
   ]
  },
  {
   "cell_type": "markdown",
   "metadata": {},
   "source": [
    "**5 países con más tweets**"
   ]
  },
  {
   "cell_type": "code",
   "execution_count": 94,
   "metadata": {
    "collapsed": false
   },
   "outputs": [
    {
     "name": "stdout",
     "output_type": "stream",
     "text": [
      "+-------+------+\n",
      "|Country|tweets|\n",
      "+-------+------+\n",
      "|     es|172577|\n",
      "|     us| 12722|\n",
      "|     gb| 12588|\n",
      "|     id|  8725|\n",
      "|     it|  1843|\n",
      "+-------+------+\n",
      "\n"
     ]
    }
   ],
   "source": [
    "spark.sql(\"\"\"\n",
    "SELECT Country, COUNT(Id) AS `tweets`\n",
    "FROM events\n",
    "WHERE Country != \"not public\"\n",
    "GROUP BY Country\n",
    "ORDER BY tweets DESC\n",
    "LIMIT 5\n",
    "\"\"\").show()"
   ]
  },
  {
   "cell_type": "markdown",
   "metadata": {},
   "source": [
    "**10 usuarios con más tweets**"
   ]
  },
  {
   "cell_type": "code",
   "execution_count": 95,
   "metadata": {
    "collapsed": false
   },
   "outputs": [
    {
     "name": "stdout",
     "output_type": "stream",
     "text": [
      "+------------+------+\n",
      "|      Source|tweets|\n",
      "+------------+------+\n",
      "|  m_azharaji|   486|\n",
      "|  twitMOTOGP|   401|\n",
      "|   johnbokke|   297|\n",
      "|qatarflights|   283|\n",
      "|  box_repsol|   267|\n",
      "| yolandaa_95|   185|\n",
      "| AlessiaPont|   182|\n",
      "|  MM93Lovers|   169|\n",
      "| motomatters|   169|\n",
      "|  Sonic_Moto|   165|\n",
      "+------------+------+\n",
      "\n"
     ]
    }
   ],
   "source": [
    "spark.sql(\"\"\"\n",
    "SELECT Source, COUNT(Id) AS `tweets`\n",
    "FROM events\n",
    "GROUP BY Source\n",
    "ORDER BY tweets DESC\n",
    "LIMIT 10\n",
    "\"\"\").show()"
   ]
  },
  {
   "cell_type": "markdown",
   "metadata": {},
   "source": [
    "### Estadísticas temporales (SQL)"
   ]
  },
  {
   "cell_type": "markdown",
   "metadata": {},
   "source": [
    "**Número de tweets por día**"
   ]
  },
  {
   "cell_type": "code",
   "execution_count": 27,
   "metadata": {
    "collapsed": false
   },
   "outputs": [
    {
     "name": "stdout",
     "output_type": "stream",
     "text": [
      "+---------+------+\n",
      "|day_month|tweets|\n",
      "+---------+------+\n",
      "|       23|154395|\n",
      "|       24| 67945|\n",
      "|       25| 20557|\n",
      "|       26| 14783|\n",
      "+---------+------+\n",
      "\n"
     ]
    }
   ],
   "source": [
    "spark.sql(\"\"\"\n",
    "SELECT DAYOFMONTH(Pub_date) AS `day_month`,\n",
    "COUNT(id) AS `tweets`\n",
    "FROM events\n",
    "GROUP BY DAYOFMONTH(Pub_date)\n",
    "ORDER BY DAYOFMONTH(Pub_date)\n",
    "\"\"\").show()"
   ]
  },
  {
   "cell_type": "markdown",
   "metadata": {},
   "source": [
    "**Número de tweets por día y hora**"
   ]
  },
  {
   "cell_type": "code",
   "execution_count": 26,
   "metadata": {
    "collapsed": false
   },
   "outputs": [
    {
     "name": "stdout",
     "output_type": "stream",
     "text": [
      "+---------+----+------+\n",
      "|day_month|hour|tweets|\n",
      "+---------+----+------+\n",
      "|       23|   0|  1628|\n",
      "|       23|   1|  1216|\n",
      "|       23|   2|   960|\n",
      "|       23|   3|   751|\n",
      "|       23|   4|   595|\n",
      "|       23|   5|   427|\n",
      "|       23|   6|   503|\n",
      "|       23|   7|   455|\n",
      "|       23|   8|   971|\n",
      "|       23|   9|  1355|\n",
      "|       23|  10|  2080|\n",
      "|       23|  11|  4733|\n",
      "|       23|  12|  5194|\n",
      "|       23|  13|  3745|\n",
      "|       23|  14|  3436|\n",
      "|       23|  15|  3645|\n",
      "|       23|  16|  6977|\n",
      "|       23|  17| 14959|\n",
      "|       23|  18|  7289|\n",
      "|       23|  19| 11940|\n",
      "+---------+----+------+\n",
      "only showing top 20 rows\n",
      "\n"
     ]
    }
   ],
   "source": [
    "spark.sql(\"\"\"\n",
    "SELECT DAYOFMONTH(Pub_date) AS `day_month`, HOUR(Pub_date) as `hour`,\n",
    "COUNT(id) AS `tweets`\n",
    "FROM events\n",
    "GROUP BY DAYOFMONTH(Pub_date), HOUR(Pub_date)\n",
    "ORDER BY DAYOFMONTH(Pub_date), HOUR(Pub_date)\n",
    "\"\"\").show()"
   ]
  },
  {
   "cell_type": "markdown",
   "metadata": {},
   "source": [
    "**Número de tweets por día y hora, a partir de 2014-03-24 05:00**"
   ]
  },
  {
   "cell_type": "code",
   "execution_count": 33,
   "metadata": {
    "collapsed": false
   },
   "outputs": [
    {
     "name": "stdout",
     "output_type": "stream",
     "text": [
      "+---------+----+------+\n",
      "|day_month|hour|tweets|\n",
      "+---------+----+------+\n",
      "|       24|   5|   970|\n",
      "|       24|   6|  1162|\n",
      "|       24|   7|  1831|\n",
      "|       24|   8|  1852|\n",
      "|       24|   9|  1774|\n",
      "|       24|  10|  2415|\n",
      "|       24|  11|  3376|\n",
      "|       24|  12|  2590|\n",
      "|       24|  13|  5332|\n",
      "|       24|  14|  3984|\n",
      "|       24|  15|  2903|\n",
      "|       24|  16|  2277|\n",
      "|       24|  17|  2678|\n",
      "|       24|  18|  1830|\n",
      "|       24|  19|  1597|\n",
      "|       24|  20|  1746|\n",
      "|       24|  21|  2303|\n",
      "|       24|  22|  1679|\n",
      "|       24|  23|  1124|\n",
      "|       25|   0|  1002|\n",
      "|       25|   1|   582|\n",
      "|       25|   2|   382|\n",
      "|       25|   3|   369|\n",
      "|       25|   4|   348|\n",
      "|       25|   5|   340|\n",
      "|       25|   6|   385|\n",
      "|       25|   7|   526|\n",
      "|       25|   8|   560|\n",
      "|       25|   9|   613|\n",
      "|       25|  10|   941|\n",
      "+---------+----+------+\n",
      "only showing top 30 rows\n",
      "\n"
     ]
    }
   ],
   "source": [
    "spark.sql(\"\"\"\n",
    "SELECT DAYOFMONTH(Pub_date) AS `day_month`, HOUR(Pub_date) as `hour`,\n",
    "COUNT(id) AS `tweets`\n",
    "FROM events\n",
    "WHERE ((DAYOFMONTH(Pub_date) = 24 AND HOUR(Pub_date) >= 5) OR DAYOFMONTH(Pub_date) >= 25)\n",
    "GROUP BY DAYOFMONTH(Pub_date), HOUR(Pub_date)\n",
    "ORDER BY DAYOFMONTH(Pub_date), HOUR(Pub_date)\n",
    "\"\"\").show(30)"
   ]
  },
  {
   "cell_type": "code",
   "execution_count": null,
   "metadata": {
    "collapsed": true
   },
   "outputs": [],
   "source": []
  }
 ],
 "metadata": {
  "anaconda-cloud": {},
  "kernelspec": {
   "display_name": "Python [conda env:datascience]",
   "language": "python",
   "name": "conda-env-datascience-py"
  },
  "language_info": {
   "codemirror_mode": {
    "name": "ipython",
    "version": 3
   },
   "file_extension": ".py",
   "mimetype": "text/x-python",
   "name": "python",
   "nbconvert_exporter": "python",
   "pygments_lexer": "ipython3",
   "version": "3.5.2"
  }
 },
 "nbformat": 4,
 "nbformat_minor": 1
}
